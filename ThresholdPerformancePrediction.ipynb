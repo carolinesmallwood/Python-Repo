{
 "cells": [
  {
   "cell_type": "markdown",
   "metadata": {
    "collapsed": true
   },
   "source": [
    "# Estimating Probability (Z%) of Stock Under-performing Market Index by X% over Y Days after Reaching Forward PE Ratio Threshold "
   ]
  },
  {
   "cell_type": "code",
   "execution_count": 1,
   "metadata": {
    "collapsed": true
   },
   "outputs": [],
   "source": [
    "import numpy as np\n",
    "from numpy import unravel_index\n",
    "np.set_printoptions(threshold=np.nan)\n",
    "import pandas as pd\n",
    "import matplotlib.pyplot as plt\n",
    "%matplotlib inline\n",
    "\n",
    "import math"
   ]
  },
  {
   "cell_type": "markdown",
   "metadata": {},
   "source": [
    "###### UPDATE CSV FILE PATH NAME AND STOCK/INDEX/FEATURE NAMES"
   ]
  },
  {
   "cell_type": "code",
   "execution_count": 2,
   "metadata": {
    "collapsed": false
   },
   "outputs": [],
   "source": [
    "#csv file containing index price series, stock price series, \n",
    "#Forward PE ratio(or other stock feature) series\n",
    "dataFile= '/Users/carolinesmallwood/Documents/Py Workspace/PCLNdata.csv'\n",
    "stockTicker = 'PCLN'\n",
    "indexTicker = 'SP'\n",
    "feat = 'Forward PE'"
   ]
  },
  {
   "cell_type": "markdown",
   "metadata": {},
   "source": [
    "###### SET INDICES OF FIRST AND LAST COLUMN OF PRICE/TIME SERIES"
   ]
  },
  {
   "cell_type": "code",
   "execution_count": 3,
   "metadata": {
    "collapsed": false
   },
   "outputs": [],
   "source": [
    "colStart = 9\n",
    "colEnd = 1265\n",
    "\n",
    "\n",
    "seriesLen = colEnd - colStart - 1\n",
    "cols = range(colStart, colEnd)\n",
    "x = range(0, seriesLen)\n",
    "colName = map(str, x)"
   ]
  },
  {
   "cell_type": "markdown",
   "metadata": {},
   "source": [
    "##### ADJUST PANDAS READ_CSV CALL AND/OR SERIES ORDERING, IF NEEDED"
   ]
  },
  {
   "cell_type": "code",
   "execution_count": 4,
   "metadata": {
    "collapsed": false
   },
   "outputs": [],
   "source": [
    "df = pd.read_csv(dataFile, header=None, usecols=cols, index_col=0)\n",
    "\n",
    "#Reverse columns to restore chronological order\n",
    "df = df[df.columns[::-1]]\n",
    "df.columns = colName\n",
    "\n",
    "idxPrice = df.iloc[0]\n",
    "stockPrice = df.iloc[1]\n",
    "feature = df.iloc[2]"
   ]
  },
  {
   "cell_type": "markdown",
   "metadata": {},
   "source": [
    "### Visualizing the Data"
   ]
  },
  {
   "cell_type": "code",
   "execution_count": 5,
   "metadata": {
    "collapsed": false
   },
   "outputs": [
    {
     "data": {
      "text/html": [
       "<div>\n",
       "<table border=\"1\" class=\"dataframe\">\n",
       "  <thead>\n",
       "    <tr style=\"text-align: right;\">\n",
       "      <th></th>\n",
       "      <th>0</th>\n",
       "      <th>1</th>\n",
       "      <th>2</th>\n",
       "      <th>3</th>\n",
       "      <th>4</th>\n",
       "      <th>5</th>\n",
       "      <th>6</th>\n",
       "      <th>7</th>\n",
       "      <th>8</th>\n",
       "      <th>9</th>\n",
       "      <th>...</th>\n",
       "      <th>1245</th>\n",
       "      <th>1246</th>\n",
       "      <th>1247</th>\n",
       "      <th>1248</th>\n",
       "      <th>1249</th>\n",
       "      <th>1250</th>\n",
       "      <th>1251</th>\n",
       "      <th>1252</th>\n",
       "      <th>1253</th>\n",
       "      <th>1254</th>\n",
       "    </tr>\n",
       "    <tr>\n",
       "      <th>9</th>\n",
       "      <th></th>\n",
       "      <th></th>\n",
       "      <th></th>\n",
       "      <th></th>\n",
       "      <th></th>\n",
       "      <th></th>\n",
       "      <th></th>\n",
       "      <th></th>\n",
       "      <th></th>\n",
       "      <th></th>\n",
       "      <th></th>\n",
       "      <th></th>\n",
       "      <th></th>\n",
       "      <th></th>\n",
       "      <th></th>\n",
       "      <th></th>\n",
       "      <th></th>\n",
       "      <th></th>\n",
       "      <th></th>\n",
       "      <th></th>\n",
       "      <th></th>\n",
       "    </tr>\n",
       "  </thead>\n",
       "  <tbody>\n",
       "    <tr>\n",
       "      <th>LAST_PRICE</th>\n",
       "      <td>1382.200</td>\n",
       "      <td>1358.590</td>\n",
       "      <td>1368.710</td>\n",
       "      <td>1387.570</td>\n",
       "      <td>1370.260</td>\n",
       "      <td>1369.570</td>\n",
       "      <td>1390.780</td>\n",
       "      <td>1385.140</td>\n",
       "      <td>1376.920</td>\n",
       "      <td>1378.530</td>\n",
       "      <td>...</td>\n",
       "      <td>2344.020</td>\n",
       "      <td>2348.450</td>\n",
       "      <td>2345.960</td>\n",
       "      <td>2343.980</td>\n",
       "      <td>2341.590</td>\n",
       "      <td>2358.570</td>\n",
       "      <td>2361.130</td>\n",
       "      <td>2368.060</td>\n",
       "      <td>2362.720</td>\n",
       "      <td>2359.120</td>\n",
       "    </tr>\n",
       "    <tr>\n",
       "      <th>LAST_PRICE</th>\n",
       "      <td>764.750</td>\n",
       "      <td>741.260</td>\n",
       "      <td>729.570</td>\n",
       "      <td>742.150</td>\n",
       "      <td>735.180</td>\n",
       "      <td>702.000</td>\n",
       "      <td>715.370</td>\n",
       "      <td>732.220</td>\n",
       "      <td>717.180</td>\n",
       "      <td>710.170</td>\n",
       "      <td>...</td>\n",
       "      <td>1747.140</td>\n",
       "      <td>1751.990</td>\n",
       "      <td>1748.330</td>\n",
       "      <td>1753.110</td>\n",
       "      <td>1772.000</td>\n",
       "      <td>1788.450</td>\n",
       "      <td>1785.050</td>\n",
       "      <td>1789.200</td>\n",
       "      <td>1779.970</td>\n",
       "      <td>1781.800</td>\n",
       "    </tr>\n",
       "    <tr>\n",
       "      <th>BEST_PE_RATIO</th>\n",
       "      <td>23.516</td>\n",
       "      <td>22.794</td>\n",
       "      <td>22.395</td>\n",
       "      <td>22.781</td>\n",
       "      <td>22.567</td>\n",
       "      <td>21.107</td>\n",
       "      <td>21.509</td>\n",
       "      <td>22.016</td>\n",
       "      <td>21.563</td>\n",
       "      <td>21.353</td>\n",
       "      <td>...</td>\n",
       "      <td>23.681</td>\n",
       "      <td>23.747</td>\n",
       "      <td>23.697</td>\n",
       "      <td>23.762</td>\n",
       "      <td>24.018</td>\n",
       "      <td>24.241</td>\n",
       "      <td>24.195</td>\n",
       "      <td>24.251</td>\n",
       "      <td>24.172</td>\n",
       "      <td>23.748</td>\n",
       "    </tr>\n",
       "    <tr>\n",
       "      <th>BEST_CUR_EV_TO_EBITDA</th>\n",
       "      <td>17.439</td>\n",
       "      <td>16.873</td>\n",
       "      <td>16.555</td>\n",
       "      <td>16.857</td>\n",
       "      <td>16.690</td>\n",
       "      <td>15.794</td>\n",
       "      <td>16.114</td>\n",
       "      <td>16.517</td>\n",
       "      <td>16.157</td>\n",
       "      <td>15.990</td>\n",
       "      <td>...</td>\n",
       "      <td>16.733</td>\n",
       "      <td>16.783</td>\n",
       "      <td>16.745</td>\n",
       "      <td>16.795</td>\n",
       "      <td>16.991</td>\n",
       "      <td>17.162</td>\n",
       "      <td>17.127</td>\n",
       "      <td>17.170</td>\n",
       "      <td>17.074</td>\n",
       "      <td>16.887</td>\n",
       "    </tr>\n",
       "    <tr>\n",
       "      <th>BEST_CURRENT_EV_BEST_SALES</th>\n",
       "      <td>6.247</td>\n",
       "      <td>6.044</td>\n",
       "      <td>5.943</td>\n",
       "      <td>6.052</td>\n",
       "      <td>5.991</td>\n",
       "      <td>5.705</td>\n",
       "      <td>5.821</td>\n",
       "      <td>5.966</td>\n",
       "      <td>5.836</td>\n",
       "      <td>5.776</td>\n",
       "      <td>...</td>\n",
       "      <td>6.377</td>\n",
       "      <td>6.396</td>\n",
       "      <td>6.381</td>\n",
       "      <td>6.400</td>\n",
       "      <td>6.475</td>\n",
       "      <td>6.540</td>\n",
       "      <td>6.527</td>\n",
       "      <td>6.543</td>\n",
       "      <td>6.507</td>\n",
       "      <td>6.327</td>\n",
       "    </tr>\n",
       "    <tr>\n",
       "      <th>BEST_PX_BPS_RATIO</th>\n",
       "      <td>12.135</td>\n",
       "      <td>11.762</td>\n",
       "      <td>11.577</td>\n",
       "      <td>11.776</td>\n",
       "      <td>11.666</td>\n",
       "      <td>11.139</td>\n",
       "      <td>11.351</td>\n",
       "      <td>11.619</td>\n",
       "      <td>11.380</td>\n",
       "      <td>11.269</td>\n",
       "      <td>...</td>\n",
       "      <td>8.382</td>\n",
       "      <td>8.405</td>\n",
       "      <td>8.388</td>\n",
       "      <td>8.411</td>\n",
       "      <td>8.501</td>\n",
       "      <td>8.580</td>\n",
       "      <td>8.564</td>\n",
       "      <td>8.584</td>\n",
       "      <td>8.540</td>\n",
       "      <td>8.124</td>\n",
       "    </tr>\n",
       "  </tbody>\n",
       "</table>\n",
       "<p>6 rows × 1255 columns</p>\n",
       "</div>"
      ],
      "text/plain": [
       "                                   0         1         2         3         4  \\\n",
       "9                                                                              \n",
       "LAST_PRICE                  1382.200  1358.590  1368.710  1387.570  1370.260   \n",
       "LAST_PRICE                   764.750   741.260   729.570   742.150   735.180   \n",
       "BEST_PE_RATIO                 23.516    22.794    22.395    22.781    22.567   \n",
       "BEST_CUR_EV_TO_EBITDA         17.439    16.873    16.555    16.857    16.690   \n",
       "BEST_CURRENT_EV_BEST_SALES     6.247     6.044     5.943     6.052     5.991   \n",
       "BEST_PX_BPS_RATIO             12.135    11.762    11.577    11.776    11.666   \n",
       "\n",
       "                                   5         6         7         8         9  \\\n",
       "9                                                                              \n",
       "LAST_PRICE                  1369.570  1390.780  1385.140  1376.920  1378.530   \n",
       "LAST_PRICE                   702.000   715.370   732.220   717.180   710.170   \n",
       "BEST_PE_RATIO                 21.107    21.509    22.016    21.563    21.353   \n",
       "BEST_CUR_EV_TO_EBITDA         15.794    16.114    16.517    16.157    15.990   \n",
       "BEST_CURRENT_EV_BEST_SALES     5.705     5.821     5.966     5.836     5.776   \n",
       "BEST_PX_BPS_RATIO             11.139    11.351    11.619    11.380    11.269   \n",
       "\n",
       "                              ...         1245      1246      1247      1248  \\\n",
       "9                             ...                                              \n",
       "LAST_PRICE                    ...     2344.020  2348.450  2345.960  2343.980   \n",
       "LAST_PRICE                    ...     1747.140  1751.990  1748.330  1753.110   \n",
       "BEST_PE_RATIO                 ...       23.681    23.747    23.697    23.762   \n",
       "BEST_CUR_EV_TO_EBITDA         ...       16.733    16.783    16.745    16.795   \n",
       "BEST_CURRENT_EV_BEST_SALES    ...        6.377     6.396     6.381     6.400   \n",
       "BEST_PX_BPS_RATIO             ...        8.382     8.405     8.388     8.411   \n",
       "\n",
       "                                1249      1250      1251      1252      1253  \\\n",
       "9                                                                              \n",
       "LAST_PRICE                  2341.590  2358.570  2361.130  2368.060  2362.720   \n",
       "LAST_PRICE                  1772.000  1788.450  1785.050  1789.200  1779.970   \n",
       "BEST_PE_RATIO                 24.018    24.241    24.195    24.251    24.172   \n",
       "BEST_CUR_EV_TO_EBITDA         16.991    17.162    17.127    17.170    17.074   \n",
       "BEST_CURRENT_EV_BEST_SALES     6.475     6.540     6.527     6.543     6.507   \n",
       "BEST_PX_BPS_RATIO              8.501     8.580     8.564     8.584     8.540   \n",
       "\n",
       "                                1254  \n",
       "9                                     \n",
       "LAST_PRICE                  2359.120  \n",
       "LAST_PRICE                  1781.800  \n",
       "BEST_PE_RATIO                 23.748  \n",
       "BEST_CUR_EV_TO_EBITDA         16.887  \n",
       "BEST_CURRENT_EV_BEST_SALES     6.327  \n",
       "BEST_PX_BPS_RATIO              8.124  \n",
       "\n",
       "[6 rows x 1255 columns]"
      ]
     },
     "execution_count": 5,
     "metadata": {},
     "output_type": "execute_result"
    }
   ],
   "source": [
    "df"
   ]
  },
  {
   "cell_type": "code",
   "execution_count": 6,
   "metadata": {
    "collapsed": false
   },
   "outputs": [
    {
     "data": {
      "image/png": "[encoded data removed]",
      "text/plain": [
       "<matplotlib.figure.Figure at 0x1119ea9d0>"
      ]
     },
     "metadata": {},
     "output_type": "display_data"
    }
   ],
   "source": [
    "plt.plot(x, idxPrice, label=indexTicker)\n",
    "plt.plot(x, stockPrice, label=stockTicker)\n",
    "plt.legend()\n",
    "plt.xlabel('Day 1 to Day ' + str(seriesLen))\n",
    "plt.ylabel('Price per Share in USD')\n",
    "plt.title(stockTicker + ', ' + indexTicker);"
   ]
  },
  {
   "cell_type": "code",
   "execution_count": 7,
   "metadata": {
    "collapsed": false
   },
   "outputs": [
    {
     "data": {
      "image/png": "[encoded data removed]",
      "text/plain": [
       "<matplotlib.figure.Figure at 0x111b87c50>"
      ]
     },
     "metadata": {},
     "output_type": "display_data"
    }
   ],
   "source": [
    "plt.plot(x, feature)\n",
    "plt.xlabel('Day 1 to Day ' + str(seriesLen))\n",
    "plt.title('Forward PE Ratio');"
   ]
  },
  {
   "cell_type": "markdown",
   "metadata": {},
   "source": [
    "#### SET YMAX\n",
    "#### Generate matrix of compound returns over y days from 1 to yMax"
   ]
  },
  {
   "cell_type": "code",
   "execution_count": 16,
   "metadata": {
    "collapsed": false
   },
   "outputs": [],
   "source": [
    "#Calculate compound return rate or both stock and index over y days\n",
    "yMax = 14\n",
    "\n",
    "#The [y, i] element of crStock tells us the daily compound return rate\n",
    "#over days i to i+y+1 for the given stock (a span of y+1 days)\n",
    "crStock = np.zeros((yMax, seriesLen))\n",
    "crIdx = np.zeros((yMax, seriesLen))\n",
    "\n",
    "for y in range(0, yMax):\n",
    "    for i in range (0, seriesLen-y-1):\n",
    "        crStock[y, i] = math.pow((stockPrice[i+y+1] / stockPrice[i]),(1/float(y+1))) - 1\n",
    "        crIdx[y, i] = math.pow((idxPrice[i+y+1] / idxPrice[i]), (1/float(y+1))) - 1\n",
    "        \n",
    "maxUnderperf = np.max(crIdx - crStock)\n",
    "\n",
    "stock_v_idx = crStock - crIdx"
   ]
  },
  {
   "cell_type": "code",
   "execution_count": 122,
   "metadata": {
    "collapsed": false
   },
   "outputs": [
    {
     "data": {
      "image/png": "[encoded data removed]",
      "text/plain": [
       "<matplotlib.figure.Figure at 0x116e8ed10>"
      ]
     },
     "metadata": {},
     "output_type": "display_data"
    }
   ],
   "source": [
    "y = 10\n",
    "plt.plot(x, stock_v_idx[plotY])\n",
    "plt.xlabel('Day 1 to Day ' + str(seriesLen))\n",
    "plt.ylabel('difference in daily compound return rate')\n",
    "plt.title(stockTicker + ' performance over ' + str(y) + ' days with respect to ' + indexTicker);"
   ]
  },
  {
   "cell_type": "code",
   "execution_count": 123,
   "metadata": {
    "collapsed": false
   },
   "outputs": [
    {
     "data": {
      "image/png": "[encoded data removed]",
      "text/plain": [
       "<matplotlib.figure.Figure at 0x1119ea310>"
      ]
     },
     "metadata": {},
     "output_type": "display_data"
    }
   ],
   "source": [
    "y = 10\n",
    "\n",
    "fig, ax1 = plt.subplots()\n",
    "ax1.plot(x, stockPrice,'g', label=stockTicker)\n",
    "ax1.set_xlabel('Day 1 to Day ' + str(seriesLen))\n",
    "ax1.set_ylabel('Price per Share in USD', color='g')\n",
    "ax1.tick_params('y', colors='g')\n",
    "\n",
    "plt.title(stockTicker + ' and compound return rate over ' + str(y) + ' days')\n",
    "\n",
    "ax2 = ax1.twinx()\n",
    "ax2.plot(x, crStock[y, :], 'b-', label='compound return rate')\n",
    "ax2.set_ylabel('daily compound return rate', color='b')\n",
    "ax2.tick_params('y', colors='b');"
   ]
  },
  {
   "cell_type": "markdown",
   "metadata": {},
   "source": [
    "### Calculate Probability Matrix, Z"
   ]
  },
  {
   "cell_type": "markdown",
   "metadata": {},
   "source": [
    "#### EDIT featureSteps, pDiffSteps, and minPdiff VARIABLES, IF DESIRED\n",
    "Reducing number of steps will reduce computation time\n",
    "\n",
    "minPdiff should be set to minimum lucrative underperformance rate of stock with respect to market"
   ]
  },
  {
   "cell_type": "code",
   "execution_count": 119,
   "metadata": {
    "collapsed": false
   },
   "outputs": [],
   "source": [
    "#Number of feature thresholds\n",
    "featureSteps = 50\n",
    "\n",
    "#Number of percent change differences between index and stock\n",
    "#i.e. underperformance steps\n",
    "pDiffSteps = 50\n",
    "\n",
    "#Construct range of feature thresholds\n",
    "minF = min(feature)\n",
    "maxF = max(feature)\n",
    "stepF = (maxF - minF) / featureSteps\n",
    "featureRange = np.arange(minF, maxF, stepF)\n",
    "\n",
    "#Construct range of percent change difference between index and stock\n",
    "#minPdiff = min(idx_v_stock) + 0.10\n",
    "minPdiff = 0.001\n",
    "maxPdiff = maxUnderperf\n",
    "stepPdiff = (maxPdiff - minPdiff) / pDiffSteps\n",
    "pDiffRange = np.arange(minPdiff, maxPdiff, stepPdiff)"
   ]
  },
  {
   "cell_type": "code",
   "execution_count": 120,
   "metadata": {
    "collapsed": false
   },
   "outputs": [],
   "source": [
    "feat_v_thresh = np.zeros((featureSteps, seriesLen))\n",
    "\n",
    "i = 0\n",
    "for f in featureRange:\n",
    "    feat_v_thresh[i] = feature - f\n",
    "    i += 1"
   ]
  },
  {
   "cell_type": "markdown",
   "metadata": {},
   "source": [
    "#### Z[x, f, y] = likelihood that  surpassing feature value stored at f in featureArray will lead to x% or greater market underperformance over y days: \n",
    "\n",
    "##### In order to track feature falling below threshold, swap 0 and 1 assignments to fvt vector (feature vs threshold) Then overThreshCt will actually hold number of days in which feature falls below threshold"
   ]
  },
  {
   "cell_type": "code",
   "execution_count": 26,
   "metadata": {
    "collapsed": false
   },
   "outputs": [],
   "source": [
    "fvt = np.copy(feat_v_thresh)\n",
    "#To test predictive power of feature falling BELOW threshold, swap 0 and 1 on the next two lines\n",
    "fvt[fvt < 0] = 0\n",
    "fvt[fvt > 0] = 1\n",
    "\n",
    "#Number of days feature exceeds feature threshold\n",
    "overThreshCt = np.sum(fvt, axis=1)"
   ]
  },
  {
   "cell_type": "code",
   "execution_count": 124,
   "metadata": {
    "collapsed": false
   },
   "outputs": [],
   "source": [
    "Z = np.zeros((pDiffSteps, featureSteps, yMax))\n",
    "\n",
    "d = 0\n",
    "for diff in pDiffRange:\n",
    "    #Find boolean of days that stock underperforms idx by diff (over the next y days)\n",
    "    for y in range(0, yMax):\n",
    "        underperf = np.copy(stock_v_idx[y, :])\n",
    "        underperf[underperf > -diff] = 0\n",
    "        underperf[underperf < -diff] = 1\n",
    "        for featIdx in range(0, featureSteps):\n",
    "            underperf_threshEx = np.logical_and(underperf, fvt[featIdx])\n",
    "            Z[d, featIdx, y] = sum(underperf_threshEx) / overThreshCt[featIdx]\n",
    "    d += 1\n",
    "            "
   ]
  },
  {
   "cell_type": "code",
   "execution_count": 73,
   "metadata": {
    "collapsed": false
   },
   "outputs": [
    {
     "data": {
      "text/plain": [
       "(0, 46, 6)"
      ]
     },
     "execution_count": 73,
     "metadata": {},
     "output_type": "execute_result"
    }
   ],
   "source": [
    "#(X,featIdx, Y) tuple generating the max probability in Z\n",
    "maxIdx = unravel_index(Z.argmax(), Z.shape)\n",
    "maxIdx"
   ]
  },
  {
   "cell_type": "markdown",
   "metadata": {},
   "source": [
    "##### max probability occurs unsurprisingly for the smallest rate of underperformance, 0.001 or 0.1%, with a relatively high forwardPE ratio threshold (47th out of 50) and a span of y=6 days\n",
    "##### The probability at that point is 1.0"
   ]
  },
  {
   "cell_type": "code",
   "execution_count": 45,
   "metadata": {
    "collapsed": true
   },
   "outputs": [],
   "source": [
    "#Returns the index of the first element in vector that is >= key\n",
    "#assumes vector is sorted\n",
    "def findIndex(vector, key):\n",
    "    for i in range(0, len(vector)):\n",
    "        if (vector[i] >= key):\n",
    "            return i\n",
    "    return -1"
   ]
  },
  {
   "cell_type": "code",
   "execution_count": 46,
   "metadata": {
    "collapsed": true
   },
   "outputs": [],
   "source": [
    "def firstInstance(vector, value):\n",
    "    for i in range(0, len(vector)):\n",
    "        if vector[i] >= value:\n",
    "            return i\n",
    "    return -1"
   ]
  },
  {
   "cell_type": "code",
   "execution_count": 55,
   "metadata": {
    "collapsed": true
   },
   "outputs": [],
   "source": [
    "def lastInstance(vector, value):\n",
    "    highest = -1\n",
    "    for i in range(0, len(vector)):\n",
    "        if vector[i] >= value:\n",
    "            highest = i\n",
    "    return highest\n",
    "            "
   ]
  },
  {
   "cell_type": "code",
   "execution_count": 47,
   "metadata": {
    "collapsed": false
   },
   "outputs": [],
   "source": [
    "maxAtEachX = np.amax(Z, axis=0)\n",
    "\n",
    "maxAtEachFeat = np.amax(Z, axis=1)\n",
    "\n",
    "maxAtEachY = np.amax(Z, axis=2)"
   ]
  },
  {
   "cell_type": "code",
   "execution_count": 104,
   "metadata": {
    "collapsed": true
   },
   "outputs": [],
   "source": [
    "#Get first (smallest) pDiff such that z[pDiff, featIdx, y] >= zMin\n",
    "featIdx = 46\n",
    "y = 6\n",
    "zMin = 0.5\n",
    "pDiffidx = firstInstance(Z[:, featIdx, y], zMin)"
   ]
  },
  {
   "cell_type": "code",
   "execution_count": 105,
   "metadata": {
    "collapsed": false
   },
   "outputs": [],
   "source": [
    "#Get largest pDiff such that z[pDiff, featIdx, y] >= zMin\n",
    "pDiffidxx = lastInstance(Z[:, featIdx, y], zMin)"
   ]
  },
  {
   "cell_type": "markdown",
   "metadata": {},
   "source": [
    "#### Examine probabilities for a fixed compound return rate difference, which are indexed in increasing order, from 0 to 49"
   ]
  },
  {
   "cell_type": "code",
   "execution_count": 125,
   "metadata": {
    "collapsed": false
   },
   "outputs": [
    {
     "data": {
      "text/plain": [
       "array([[ 0.45055821,  0.42743222,  0.40191388,  0.38437002,  0.38277512,\n",
       "         0.37400319,  0.37320574,  0.3692185 ,  0.36602871,  0.36523126,\n",
       "         0.35725678,  0.35087719,  0.34848485,  0.34290271],\n",
       "       [ 0.45055821,  0.42743222,  0.40191388,  0.38437002,  0.38277512,\n",
       "         0.37400319,  0.37320574,  0.3692185 ,  0.36602871,  0.36523126,\n",
       "         0.35725678,  0.35087719,  0.34848485,  0.34290271],\n",
       "       [ 0.4509178 ,  0.42777334,  0.40223464,  0.38467678,  0.38308061,\n",
       "         0.37430168,  0.37350359,  0.36951317,  0.36632083,  0.36552275,\n",
       "         0.3575419 ,  0.35115722,  0.34876297,  0.34317638],\n",
       "       [ 0.45047923,  0.42731629,  0.40255591,  0.38498403,  0.38338658,\n",
       "         0.37460064,  0.37380192,  0.36980831,  0.36661342,  0.3658147 ,\n",
       "         0.35782748,  0.3514377 ,  0.34904153,  0.34345048],\n",
       "       [ 0.45083933,  0.42765787,  0.4028777 ,  0.38529177,  0.38369305,\n",
       "         0.37490008,  0.37410072,  0.37010392,  0.36690647,  0.36610711,\n",
       "         0.35811351,  0.35171863,  0.34932054,  0.34372502],\n",
       "       [ 0.44987971,  0.42742582,  0.40336808,  0.38492382,  0.38412189,\n",
       "         0.37530072,  0.37369687,  0.36968725,  0.36728148,  0.36728148,\n",
       "         0.35926223,  0.35284683,  0.35044106,  0.34482759],\n",
       "       [ 0.44971842,  0.42719228,  0.40305712,  0.385358  ,  0.38374899,\n",
       "         0.37570394,  0.37409493,  0.37087691,  0.3684634 ,  0.3684634 ,\n",
       "         0.36041834,  0.3539823 ,  0.35156879,  0.34593725],\n",
       "       [ 0.4511703 ,  0.42776433,  0.40435835,  0.38498789,  0.38256659,\n",
       "         0.37449556,  0.37288136,  0.36965295,  0.36723164,  0.36723164,\n",
       "         0.35916061,  0.35270379,  0.35028249,  0.34463277],\n",
       "       [ 0.45174371,  0.42822384,  0.405515  ,  0.38605028,  0.38361719,\n",
       "         0.37469586,  0.3730738 ,  0.36982968,  0.36658556,  0.36658556,\n",
       "         0.35847526,  0.35198702,  0.34955393,  0.34387672],\n",
       "       [ 0.45061224,  0.4277551 ,  0.40571429,  0.38693878,  0.3844898 ,\n",
       "         0.3755102 ,  0.37387755,  0.36979592,  0.36653061,  0.36653061,\n",
       "         0.35836735,  0.35265306,  0.34938776,  0.3444898 ],\n",
       "       [ 0.45304778,  0.43080725,  0.40691928,  0.38879736,  0.38467875,\n",
       "         0.37561779,  0.37397035,  0.3723229 ,  0.36820428,  0.36820428,\n",
       "         0.35996705,  0.35420099,  0.35008237,  0.34596376],\n",
       "       [ 0.45431685,  0.43084661,  0.40821459,  0.39145013,  0.38809723,\n",
       "         0.37803856,  0.37552389,  0.37384744,  0.37133277,  0.37049455,\n",
       "         0.36295054,  0.35708298,  0.35289187,  0.34953898],\n",
       "       [ 0.45337896,  0.42857143,  0.40804106,  0.39178785,  0.38836612,\n",
       "         0.37810094,  0.37553464,  0.37382378,  0.37125749,  0.37040205,\n",
       "         0.36441403,  0.3609923 ,  0.35671514,  0.35243798],\n",
       "       [ 0.44924978,  0.42806708,  0.40423654,  0.39099735,  0.39099735,\n",
       "         0.38305384,  0.38217123,  0.38128861,  0.37687555,  0.37775816,\n",
       "         0.37069726,  0.3662842 ,  0.36098853,  0.35834069],\n",
       "       [ 0.45421578,  0.43245694,  0.406165  ,  0.39437897,  0.39437897,\n",
       "         0.38893926,  0.38712602,  0.38712602,  0.38259293,  0.38259293,\n",
       "         0.37443336,  0.36808704,  0.36174071,  0.35902085],\n",
       "       [ 0.45471522,  0.43323996,  0.40709617,  0.39589169,  0.40056022,\n",
       "         0.39309057,  0.39215686,  0.39215686,  0.38842204,  0.38748833,\n",
       "         0.37908497,  0.37161531,  0.36414566,  0.36134454],\n",
       "       [ 0.45833333,  0.43410853,  0.41182171,  0.40116279,  0.40503876,\n",
       "         0.39534884,  0.39728682,  0.39534884,  0.39147287,  0.39147287,\n",
       "         0.38178295,  0.375     ,  0.36821705,  0.36531008],\n",
       "       [ 0.45583756,  0.43147208,  0.41116751,  0.4       ,  0.40406091,\n",
       "         0.38984772,  0.3928934 ,  0.39086294,  0.38781726,  0.38375635,\n",
       "         0.37563452,  0.36852792,  0.36548223,  0.36243655],\n",
       "       [ 0.4539545 ,  0.43336945,  0.41061755,  0.40195016,  0.40411701,\n",
       "         0.39111593,  0.3900325 ,  0.39219935,  0.38786566,  0.38461538,\n",
       "         0.38028169,  0.37378115,  0.36728061,  0.36294691],\n",
       "       [ 0.45444191,  0.43394077,  0.40660592,  0.39977221,  0.39977221,\n",
       "         0.38838269,  0.39066059,  0.3952164 ,  0.39066059,  0.38496583,\n",
       "         0.37927107,  0.37585421,  0.37243736,  0.36788155],\n",
       "       [ 0.46043165,  0.4352518 ,  0.4088729 ,  0.4028777 ,  0.39928058,\n",
       "         0.38609113,  0.38968825,  0.39328537,  0.39088729,  0.38609113,\n",
       "         0.38369305,  0.38009592,  0.37769784,  0.37410072],\n",
       "       [ 0.46173469,  0.43877551,  0.4119898 ,  0.40943878,  0.40306122,\n",
       "         0.3877551 ,  0.38520408,  0.39030612,  0.38520408,  0.37882653,\n",
       "         0.37755102,  0.37627551,  0.37244898,  0.37372449],\n",
       "       [ 0.46217331,  0.44291609,  0.41540578,  0.4085282 ,  0.40302613,\n",
       "         0.38651994,  0.38376891,  0.38651994,  0.38101788,  0.3741403 ,\n",
       "         0.37138927,  0.37001376,  0.36726272,  0.36726272],\n",
       "       [ 0.46606335,  0.45098039,  0.42081448,  0.4147813 ,  0.413273  ,\n",
       "         0.39064857,  0.38612368,  0.39064857,  0.38461538,  0.38310709,\n",
       "         0.37707391,  0.37254902,  0.36953243,  0.36802413],\n",
       "       [ 0.46932007,  0.45439469,  0.4278607 ,  0.42454395,  0.42288557,\n",
       "         0.4013267 ,  0.39635158,  0.39635158,  0.3880597 ,  0.38640133,\n",
       "         0.38474295,  0.37976783,  0.37645108,  0.37810945],\n",
       "       [ 0.4797048 ,  0.46863469,  0.44464945,  0.44833948,  0.4501845 ,\n",
       "         0.42804428,  0.42250923,  0.42066421,  0.41143911,  0.40774908,\n",
       "         0.40405904,  0.39483395,  0.39667897,  0.40221402],\n",
       "       [ 0.48953975,  0.46443515,  0.43723849,  0.44142259,  0.44560669,\n",
       "         0.43305439,  0.42887029,  0.42677824,  0.42259414,  0.42468619,\n",
       "         0.41631799,  0.40376569,  0.40376569,  0.40585774],\n",
       "       [ 0.49417249,  0.46853147,  0.44055944,  0.44755245,  0.44988345,\n",
       "         0.43589744,  0.43822844,  0.43123543,  0.43123543,  0.43123543,\n",
       "         0.41491841,  0.3986014 ,  0.39160839,  0.3962704 ],\n",
       "       [ 0.48041775,  0.46475196,  0.4386423 ,  0.44125326,  0.45430809,\n",
       "         0.4386423 ,  0.44386423,  0.43603133,  0.43603133,  0.4308094 ,\n",
       "         0.4151436 ,  0.39947781,  0.38903394,  0.39686684],\n",
       "       [ 0.48224852,  0.47337278,  0.45266272,  0.45266272,  0.45266272,\n",
       "         0.4408284 ,  0.44674556,  0.4408284 ,  0.4408284 ,  0.43195266,\n",
       "         0.41420118,  0.3964497 ,  0.3816568 ,  0.39349112],\n",
       "       [ 0.50342466,  0.46917808,  0.45547945,  0.45890411,  0.46575342,\n",
       "         0.45547945,  0.46232877,  0.44863014,  0.44863014,  0.43493151,\n",
       "         0.4109589 ,  0.39383562,  0.38356164,  0.40068493],\n",
       "       [ 0.50579151,  0.47876448,  0.47490347,  0.47104247,  0.47876448,\n",
       "         0.46718147,  0.47490347,  0.45173745,  0.44787645,  0.44015444,\n",
       "         0.41312741,  0.4015444 ,  0.38996139,  0.40926641],\n",
       "       [ 0.51818182,  0.49545455,  0.47727273,  0.46363636,  0.47272727,\n",
       "         0.45454545,  0.47272727,  0.45      ,  0.45454545,  0.44090909,\n",
       "         0.40909091,  0.39545455,  0.39090909,  0.40454545],\n",
       "       [ 0.53225806,  0.50537634,  0.47849462,  0.45698925,  0.47849462,\n",
       "         0.46774194,  0.5       ,  0.48387097,  0.48387097,  0.47311828,\n",
       "         0.44086022,  0.43010753,  0.41935484,  0.43548387],\n",
       "       [ 0.52229299,  0.48407643,  0.45859873,  0.43949045,  0.47133758,\n",
       "         0.45859873,  0.48407643,  0.46496815,  0.47770701,  0.47133758,\n",
       "         0.43949045,  0.42675159,  0.42038217,  0.43312102],\n",
       "       [ 0.50381679,  0.46564885,  0.4351145 ,  0.41221374,  0.44274809,\n",
       "         0.42748092,  0.45801527,  0.45038168,  0.45801527,  0.45801527,\n",
       "         0.42748092,  0.42748092,  0.42748092,  0.44274809],\n",
       "       [ 0.46296296,  0.43518519,  0.41666667,  0.40740741,  0.42592593,\n",
       "         0.39814815,  0.43518519,  0.44444444,  0.46296296,  0.4537037 ,\n",
       "         0.42592593,  0.42592593,  0.42592593,  0.44444444],\n",
       "       [ 0.46391753,  0.46391753,  0.44329897,  0.42268041,  0.45360825,\n",
       "         0.41237113,  0.45360825,  0.46391753,  0.4742268 ,  0.46391753,\n",
       "         0.45360825,  0.45360825,  0.45360825,  0.4742268 ],\n",
       "       [ 0.48235294,  0.47058824,  0.45882353,  0.43529412,  0.47058824,\n",
       "         0.42352941,  0.47058824,  0.48235294,  0.49411765,  0.48235294,\n",
       "         0.47058824,  0.47058824,  0.47058824,  0.49411765],\n",
       "       [ 0.52307692,  0.50769231,  0.47692308,  0.44615385,  0.50769231,\n",
       "         0.46153846,  0.52307692,  0.50769231,  0.52307692,  0.50769231,\n",
       "         0.52307692,  0.53846154,  0.53846154,  0.56923077],\n",
       "       [ 0.55769231,  0.53846154,  0.53846154,  0.5       ,  0.59615385,\n",
       "         0.53846154,  0.59615385,  0.59615385,  0.61538462,  0.59615385,\n",
       "         0.61538462,  0.63461538,  0.63461538,  0.67307692],\n",
       "       [ 0.55263158,  0.57894737,  0.60526316,  0.57894737,  0.68421053,\n",
       "         0.65789474,  0.68421053,  0.65789474,  0.71052632,  0.68421053,\n",
       "         0.71052632,  0.71052632,  0.71052632,  0.73684211],\n",
       "       [ 0.61538462,  0.61538462,  0.61538462,  0.61538462,  0.65384615,\n",
       "         0.69230769,  0.73076923,  0.73076923,  0.73076923,  0.73076923,\n",
       "         0.73076923,  0.73076923,  0.73076923,  0.80769231],\n",
       "       [ 0.58333333,  0.58333333,  0.58333333,  0.58333333,  0.625     ,\n",
       "         0.66666667,  0.70833333,  0.70833333,  0.70833333,  0.70833333,\n",
       "         0.70833333,  0.70833333,  0.70833333,  0.79166667],\n",
       "       [ 0.61111111,  0.66666667,  0.61111111,  0.61111111,  0.66666667,\n",
       "         0.72222222,  0.77777778,  0.77777778,  0.77777778,  0.77777778,\n",
       "         0.77777778,  0.77777778,  0.77777778,  0.88888889],\n",
       "       [ 0.6       ,  0.66666667,  0.6       ,  0.6       ,  0.66666667,\n",
       "         0.73333333,  0.8       ,  0.8       ,  0.8       ,  0.8       ,\n",
       "         0.8       ,  0.8       ,  0.8       ,  0.93333333],\n",
       "       [ 0.58333333,  0.75      ,  0.75      ,  0.75      ,  0.83333333,\n",
       "         0.91666667,  1.        ,  1.        ,  1.        ,  1.        ,\n",
       "         1.        ,  1.        ,  1.        ,  1.        ],\n",
       "       [ 0.6       ,  0.7       ,  0.7       ,  0.7       ,  0.8       ,\n",
       "         0.9       ,  1.        ,  1.        ,  1.        ,  1.        ,\n",
       "         1.        ,  1.        ,  1.        ,  1.        ],\n",
       "       [ 0.625     ,  0.75      ,  0.75      ,  0.75      ,  0.75      ,\n",
       "         0.875     ,  1.        ,  1.        ,  1.        ,  1.        ,\n",
       "         1.        ,  1.        ,  1.        ,  1.        ],\n",
       "       [ 0.75      ,  1.        ,  1.        ,  1.        ,  1.        ,\n",
       "         1.        ,  1.        ,  1.        ,  1.        ,  1.        ,\n",
       "         1.        ,  1.        ,  1.        ,  1.        ]])"
      ]
     },
     "execution_count": 125,
     "metadata": {},
     "output_type": "execute_result"
    }
   ],
   "source": [
    "Z[0, :, :]"
   ]
  },
  {
   "cell_type": "markdown",
   "metadata": {},
   "source": [
    "### To find the probability Z that the stock will underperform the market by at least targetX% over targetY days after exceeding the forward PE ratio targfeat:"
   ]
  },
  {
   "cell_type": "markdown",
   "metadata": {},
   "source": [
    "###### SELECT TARGET VALUES FOR X (rate at which stock underperforms index, Y (length of underperformance in days, OR Z (probability of underperformance)"
   ]
  },
  {
   "cell_type": "code",
   "execution_count": 155,
   "metadata": {
    "collapsed": false
   },
   "outputs": [
    {
     "data": {
      "text/plain": [
       "0.77777777777777779"
      ]
     },
     "execution_count": 155,
     "metadata": {},
     "output_type": "execute_result"
    }
   ],
   "source": [
    "#targetX should be value in pDiffRange (0.001 to 0.17)\n",
    "targetX = 0.001\n",
    "targXidx = findIndex(pDiffRange, targetX)\n",
    "\n",
    "#targetY should be <= maxY\n",
    "targetY = 6\n",
    "\n",
    "#For this problem, targFeat is the forward PE ratio threshold\n",
    "#targFeat is in featureRange (14.44, 26.28)\n",
    "targFeat = 25\n",
    "targFeatidx = findIndex(featureRange, targFeat)\n",
    "\n",
    "#probability in (0, 1)\n",
    "probability = Z[targXidx, targFeatidx, targetY]\n",
    "probability"
   ]
  },
  {
   "cell_type": "markdown",
   "metadata": {},
   "source": [
    "### To find the forward PE ratio which, when exceeded, predicts that stock will underperform index by at least targetX% over subsequent targetY days with likelihood >= targetZ:"
   ]
  },
  {
   "cell_type": "code",
   "execution_count": 158,
   "metadata": {
    "collapsed": false
   },
   "outputs": [
    {
     "name": "stdout",
     "output_type": "stream",
     "text": [
      "If the feature exceeds 22.41412 on day i, the stock will underperform the market by at least 0.1% over the next 6 days with likelihood >= 0.5\n"
     ]
    }
   ],
   "source": [
    "targetZ = 0.50\n",
    "subsetZ = Z[targXidx, :, targetY]\n",
    "\n",
    "thresholdIdx = findIndex(subsetZ, targetZ)\n",
    "if thresholdIdx < 0:\n",
    "    print 'No feature step will generate this probability for the given X and Y parameters'\n",
    "else:\n",
    "    threshold = featureRange[thresholdIdx]\n",
    "    print 'If the feature exceeds {} on day i, the stock will underperform the market by at least {}% over the next {} days with likelihood >= {}'.format(threshold, (targetX * 100), targetY, targetZ)"
   ]
  },
  {
   "cell_type": "code",
   "execution_count": 164,
   "metadata": {
    "collapsed": false
   },
   "outputs": [
    {
     "data": {
      "image/png": "[encoded data removed]",
      "text/plain": [
       "<matplotlib.figure.Figure at 0x111766f50>"
      ]
     },
     "metadata": {},
     "output_type": "display_data"
    }
   ],
   "source": [
    "title = 'Distribution of ' + feat\n",
    "plt.hist(feature, bins='auto')\n",
    "plt.title(title)\n",
    "plt.xlabel(feat)\n",
    "plt.ylabel('occurences');"
   ]
  },
  {
   "cell_type": "code",
   "execution_count": null,
   "metadata": {
    "collapsed": true
   },
   "outputs": [],
   "source": []
  }
 ],
 "metadata": {
  "kernelspec": {
   "display_name": "Python 2",
   "language": "python",
   "name": "python2"
  },
  "language_info": {
   "codemirror_mode": {
    "name": "ipython",
    "version": 2
   },
   "file_extension": ".py",
   "mimetype": "text/x-python",
   "name": "python",
   "nbconvert_exporter": "python",
   "pygments_lexer": "ipython2",
   "version": "2.7.13"
  }
 },
 "nbformat": 4,
 "nbformat_minor": 2
}
